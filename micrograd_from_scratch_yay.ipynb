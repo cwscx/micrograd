{
  "nbformat": 4,
  "nbformat_minor": 0,
  "metadata": {
    "colab": {
      "provenance": [],
      "authorship_tag": "ABX9TyOY1PYX1FBMhe029vOhUvTm",
      "include_colab_link": true
    },
    "kernelspec": {
      "name": "python3",
      "display_name": "Python 3"
    },
    "language_info": {
      "name": "python"
    }
  },
  "cells": [
    {
      "cell_type": "markdown",
      "metadata": {
        "id": "view-in-github",
        "colab_type": "text"
      },
      "source": [
        "<a href=\"https://colab.research.google.com/github/cwscx/micrograd/blob/main/micrograd_from_scratch_yay.ipynb\" target=\"_parent\"><img src=\"https://colab.research.google.com/assets/colab-badge.svg\" alt=\"Open In Colab\"/></a>"
      ]
    },
    {
      "cell_type": "code",
      "execution_count": null,
      "metadata": {
        "id": "CU3NVz7_bgOI"
      },
      "outputs": [],
      "source": [
        "import math\n",
        "import numpy as np\n",
        "import matplotlib.pyplot as plt\n",
        "%matplotlib inline"
      ]
    },
    {
      "cell_type": "code",
      "source": [
        "def f(x):\n",
        "  return 3 * x ** 2 - 4 * x + 5  # 3x^2 - 4x + 5 => derivative: 6x - 4"
      ],
      "metadata": {
        "id": "pwfHwEVEcIY_"
      },
      "execution_count": null,
      "outputs": []
    },
    {
      "cell_type": "code",
      "source": [
        "f(3.0)"
      ],
      "metadata": {
        "id": "b9TG1zOQcPPl"
      },
      "execution_count": null,
      "outputs": []
    },
    {
      "cell_type": "code",
      "source": [
        "xs = np.arange(-5, 5, 0.25)\n",
        "ys = f(xs)\n",
        "plt.plot(xs, ys)"
      ],
      "metadata": {
        "id": "rR2JglatcRnX"
      },
      "execution_count": null,
      "outputs": []
    },
    {
      "cell_type": "code",
      "source": [
        "h = 0.000000001\n",
        "x = 2/3\n",
        "(f(x + h) - f(x))/ h"
      ],
      "metadata": {
        "id": "6zFlroU3f35F"
      },
      "execution_count": null,
      "outputs": []
    },
    {
      "cell_type": "code",
      "source": [
        "a = 2.0\n",
        "b = -3.0\n",
        "c = 10.0\n",
        "d = a * b + c\n",
        "print(d)"
      ],
      "metadata": {
        "id": "QHH2PY9kgtIz"
      },
      "execution_count": null,
      "outputs": []
    },
    {
      "cell_type": "code",
      "source": [
        "h = 0.0001\n",
        "\n",
        "#inputs = 2.0\n",
        "a = 2.0\n",
        "b = -3.0\n",
        "c = 10.0\n",
        "\n",
        "d1 = a * b + c\n",
        "a += h\n",
        "d2 = a * b + c\n",
        "\n",
        "print('d1', d1)\n",
        "print('d2', d2)\n",
        "print('slope', (d2 - d1) / h)\n",
        "\n",
        "a = 2.0\n",
        "d1 = a * b + c\n",
        "b += h\n",
        "d2 = a * b + c\n",
        "print('d1', d1)\n",
        "print('d2', d2)\n",
        "print('slope', (d2 - d1) / h)\n",
        "\n",
        "b = -3.0\n",
        "d1 = a * b + c\n",
        "c += h\n",
        "d2 = a * b + c\n",
        "print('d1', d1)\n",
        "print('d2', d2)\n",
        "print('slope', (d2 - d1) / h)"
      ],
      "metadata": {
        "id": "dM4311-Lg7H0"
      },
      "execution_count": null,
      "outputs": []
    },
    {
      "cell_type": "code",
      "source": [
        "class Value:\n",
        "\n",
        "  def __init__(self, data, _children=(), _op='', label='') -> None:\n",
        "    self.data = data\n",
        "    self.grad = 0.0\n",
        "    self._backward = lambda: None\n",
        "    self._prev = set(_children)\n",
        "    self._op = _op\n",
        "    self.label = label\n",
        "\n",
        "  def __repr__(self) -> str:\n",
        "    return f\"Value(data={self.data})\"\n",
        "\n",
        "  def __add__(self, other):\n",
        "    other = other if isinstance(other, Value) else Value(other)\n",
        "    out = Value(self.data + other.data, (self, other), '+')\n",
        "    def _add_backward():\n",
        "      self.grad += 1.0 * out.grad # gradient accumulates if refered multiple times\n",
        "      other.grad += 1.0 * out.grad\n",
        "    out._backward = _add_backward\n",
        "    return out\n",
        "\n",
        "  def __radd__(self, other):  ## to handle 1 + a\n",
        "    return self + other\n",
        "\n",
        "  def __mul__(self, other):\n",
        "    other = other if isinstance(other, Value) else Value(other)\n",
        "    out = Value(self.data * other.data, (self, other), '*')\n",
        "    def _mul_backward():\n",
        "      self.grad += other.data * out.grad\n",
        "      other.grad += self.data * out.grad\n",
        "    out._backward = _mul_backward\n",
        "    return out\n",
        "\n",
        "  def __rmul__(self, other):  ## to handle 1 * a\n",
        "    return self * other\n",
        "\n",
        "  def __neg__(self):\n",
        "    return -1 * self\n",
        "\n",
        "  def __sub__(self, other):\n",
        "    return self + (-other)\n",
        "\n",
        "  def __pow__(self, other):\n",
        "    assert isinstance(other, (int, float))\n",
        "    out = Value(self.data ** other, (self, ), f'**{other}')\n",
        "    def _pow_backward():\n",
        "      self.grad += out.grad * other * self.data ** (other - 1)\n",
        "    out._backward = _pow_backward\n",
        "    return out\n",
        "\n",
        "  def __truediv__(self, other):\n",
        "    return self * other ** -1\n",
        "\n",
        "\n",
        "  def exp(self):\n",
        "    n = self.data\n",
        "    out = Value(math.exp(n), (self, ), 'exp')\n",
        "\n",
        "    def _exp_backward():\n",
        "      # d(e^x) / dx = e^x\n",
        "      self.grad += out.grad * out.data\n",
        "\n",
        "    out._backward = _exp_backward\n",
        "    return out\n",
        "\n",
        "  def tanh(self):\n",
        "    n = self.data\n",
        "    # derivative is 1- tanh(n)**2\n",
        "    t = (math.exp(2*n) - 1) / (math.exp(2 * n) + 1)\n",
        "    out = Value(t, (self, ), label='tanh')\n",
        "    def _tanh_backward():\n",
        "      self.grad += (1 - t**2) * out.grad\n",
        "    out._backward = _tanh_backward\n",
        "    return out\n",
        "\n",
        "  def backward(self):\n",
        "    # regular BFS won't work because this might not be a tree.\n",
        "    topo = []\n",
        "    visited = set()\n",
        "\n",
        "    def build_topo(v):\n",
        "      if v not in visited:\n",
        "        visited.add(v)\n",
        "        for child in v._prev:\n",
        "          build_topo(child)\n",
        "        topo.append(v)\n",
        "\n",
        "    build_topo(self)\n",
        "    self.grad = 1.0\n",
        "    for node in reversed(topo):\n",
        "      node._backward()"
      ],
      "metadata": {
        "id": "MHD_TiVyie0d"
      },
      "execution_count": null,
      "outputs": []
    },
    {
      "cell_type": "code",
      "source": [
        "a = Value(2.0, label='a')\n",
        "b = Value(-3.0, label='b')\n",
        "c = Value(10, label='c')\n",
        "e = a * b\n",
        "e.label = 'e'\n",
        "d = e + c\n",
        "d.label = 'd'\n",
        "f = Value(-2.0, label='f')\n",
        "L = d * f\n",
        "L.label = 'L'\n",
        "# L = ((a * b) + c) * f\n",
        "print(d._prev, d._op)"
      ],
      "metadata": {
        "id": "prNgAENTivcM"
      },
      "execution_count": null,
      "outputs": []
    },
    {
      "cell_type": "code",
      "source": [
        "from graphviz import Digraph\n",
        "\n",
        "def trace(root):\n",
        "  nodes, edges = set(), set()\n",
        "  def build(v):\n",
        "    if v not in nodes:\n",
        "      nodes.add(v)\n",
        "      for child in v._prev:\n",
        "        edges.add((child, v))\n",
        "        build(child)\n",
        "  build(root)\n",
        "  return nodes, edges\n",
        "\n",
        "def draw_dot(root):\n",
        "  dot = Digraph(format=\"svg\", graph_attr={'rankdir': 'LR'})\n",
        "\n",
        "  nodes, edges = trace(root)\n",
        "  for n in nodes:\n",
        "    uid = str(id(n))\n",
        "\n",
        "    dot.node(name = uid, label = \"{%s | data %.4f | grad %.4f}\" % (n.label, n.data, n.grad), shape='record')\n",
        "    if n._op:\n",
        "      dot.node(name = uid + n._op, label = n._op)\n",
        "      dot.edge(uid + n._op, uid)\n",
        "\n",
        "  for n1, n2 in edges:\n",
        "    dot.edge(str(id(n1)), str(id(n2)) + n2._op)\n",
        "\n",
        "  return dot"
      ],
      "metadata": {
        "id": "DkXgTgeno2-i"
      },
      "execution_count": null,
      "outputs": []
    },
    {
      "cell_type": "code",
      "source": [
        "draw_dot(L)"
      ],
      "metadata": {
        "id": "eQcbc4i_puno"
      },
      "execution_count": null,
      "outputs": []
    },
    {
      "cell_type": "code",
      "source": [
        "plt.plot(np.arange(-5,5,0.2), np.tanh(np.arange(-5,5,0.2))); plt.grid()"
      ],
      "metadata": {
        "id": "x5GFqmd2qM2A"
      },
      "execution_count": null,
      "outputs": []
    },
    {
      "cell_type": "code",
      "source": [
        "# inputs\n",
        "x1 = Value(2.0, label='x1')\n",
        "x2 = Value(0.0, label='x2')\n",
        "# weights\n",
        "w1 = Value(-3.0, label='w1')\n",
        "w2 = Value(1.0, label='w2')\n",
        "# bias of the neuron\n",
        "b = Value(6.8813735870195432, label='b')\n",
        "\n",
        "x1w1 = x1*w1\n",
        "x1w1.label = 'x1*w1'\n",
        "x2w2 = x2*w2\n",
        "x2w2.label = 'x2*w2'\n",
        "x1w1x2w2 = x1w1 + x2w2\n",
        "x1w1x2w2.label = 'x1w1 + x2w2'\n",
        "n = x1w1x2w2 + b\n",
        "n.label = 'n'\n",
        "e = (2 * n).exp()\n",
        "o = (e - 1) / (e + 1)\n",
        "o.label = 'o'\n",
        "o.backward()\n",
        "draw_dot(o)"
      ],
      "metadata": {
        "id": "3pzjNcBCInpe"
      },
      "execution_count": null,
      "outputs": []
    },
    {
      "cell_type": "code",
      "source": [
        "draw_dot(o)"
      ],
      "metadata": {
        "id": "m0ufDcwuj4wA"
      },
      "execution_count": null,
      "outputs": []
    },
    {
      "cell_type": "code",
      "source": [
        "o.grad = 1.0\n",
        "o._backward()\n",
        "n._backward()\n",
        "b._backward()\n",
        "x1w1x2w2._backward()\n",
        "x1w1._backward()\n",
        "x2w2._backward()"
      ],
      "metadata": {
        "id": "k0x7_mNbj7u4"
      },
      "execution_count": null,
      "outputs": []
    },
    {
      "cell_type": "code",
      "source": [
        "o.grad = 1.0\n",
        "\n",
        "# The order to backward propagation is reverse topological order.\n",
        "# topological order: all children node is processed before the node\n",
        "topo = []\n",
        "visited = set()\n",
        "\n",
        "def build_topo(v):\n",
        "  if v not in visited:\n",
        "    visited.add(v)\n",
        "    for child in v._prev:\n",
        "      build_topo(child)\n",
        "    topo.append(v)\n",
        "\n",
        "build_topo(o)\n",
        "\n",
        "for node in reversed(topo):\n",
        "  node._backward()"
      ],
      "metadata": {
        "id": "wTWf-VDUlhQt"
      },
      "execution_count": null,
      "outputs": []
    },
    {
      "cell_type": "code",
      "source": [
        "o.backward()"
      ],
      "metadata": {
        "id": "6C87cUG7nOU2"
      },
      "execution_count": null,
      "outputs": []
    },
    {
      "cell_type": "code",
      "source": [
        " a = Value(3.0, label='a')\n",
        " b = a + a;\n",
        " b.label = 'b'\n",
        " b.backward()\n",
        " draw_dot(b)"
      ],
      "metadata": {
        "id": "L7b77gdTnprO"
      },
      "execution_count": null,
      "outputs": []
    },
    {
      "cell_type": "code",
      "source": [
        "a = Value(-2.8, label='a')\n",
        "b = Value(3.0, label='b')\n",
        "d = a * b\n",
        "d.label = 'd'\n",
        "e = a + b\n",
        "e.label = 'e'\n",
        "f = d * e\n",
        "f.label = 'f'\n",
        "\n",
        "f.backward()\n",
        "draw_dot(f)"
      ],
      "metadata": {
        "id": "owS_VwnNoE_E"
      },
      "execution_count": null,
      "outputs": []
    },
    {
      "cell_type": "code",
      "source": [
        "a = Value(2.0)\n",
        "b = Value(4.0)\n",
        "\n",
        "a - b"
      ],
      "metadata": {
        "id": "X3xgjq7A8whH"
      },
      "execution_count": null,
      "outputs": []
    }
  ]
}